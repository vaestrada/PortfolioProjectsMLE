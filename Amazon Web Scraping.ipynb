{
 "cells": [
  {
   "cell_type": "code",
   "execution_count": 2,
   "id": "2e77fb9c",
   "metadata": {},
   "outputs": [],
   "source": [
    "from selenium import webdriver\n",
    "from bs4 import BeautifulSoup\n",
    "import time"
   ]
  },
  {
   "cell_type": "code",
   "execution_count": 8,
   "id": "f4d62ff0",
   "metadata": {},
   "outputs": [],
   "source": [
    "def scrape_amazon(search_query):\n",
    "    url = f'https://www.amazon.com/s?k={search_query}'\n",
    "    \n",
    "    # Use a web driver (e.g., ChromeDriver) to load the page\n",
    "    driver = webdriver.Chrome()\n",
    "    driver.get(url)\n",
    "\n",
    "    # Allow some time for the page to load\n",
    "    time.sleep(2)\n",
    "\n",
    "    # Scroll down to load more results (you may need to adjust this based on the actual page structure)\n",
    "    driver.execute_script(\"window.scrollTo(0, document.body.scrollHeight);\")\n",
    "    time.sleep(2)\n",
    "\n",
    "    # Get the page source and close the browser\n",
    "    page_source = driver.page_source\n",
    "    driver.quit()\n",
    "\n",
    "    # Parse the HTML using BeautifulSoup\n",
    "    soup = BeautifulSoup(page_source, 'html.parser')\n",
    "\n",
    "    # Extract product names and prices\n",
    "    product_cards = soup.find_all('div', {'data-component-type': 's-search-result'})\n",
    "    \n",
    "    items = []\n",
    "    for card in product_cards:\n",
    "        title = card.find('span', {'class': 'a-size-medium'})\n",
    "        price = card.find('span', {'class': 'a-offscreen'})\n",
    "        \n",
    "        if title and price:\n",
    "            items.append({'title': title.text.strip(), 'price': price.text.strip()})\n",
    "\n",
    "    return items"
   ]
  },
  {
   "cell_type": "code",
   "execution_count": 9,
   "id": "0f5d34a0",
   "metadata": {},
   "outputs": [],
   "source": [
    "# Example usage\n",
    "search_query = 'laptop'\n",
    "results = scrape_amazon(search_query)\n",
    "\n",
    "for i, result in enumerate(results, start=1):\n",
    "    print(f\"{i}. {result['title']} - {result['price']}\")"
   ]
  },
  {
   "cell_type": "code",
   "execution_count": null,
   "id": "8cfa4723",
   "metadata": {},
   "outputs": [],
   "source": []
  }
 ],
 "metadata": {
  "kernelspec": {
   "display_name": "Python 3 (ipykernel)",
   "language": "python",
   "name": "python3"
  },
  "language_info": {
   "codemirror_mode": {
    "name": "ipython",
    "version": 3
   },
   "file_extension": ".py",
   "mimetype": "text/x-python",
   "name": "python",
   "nbconvert_exporter": "python",
   "pygments_lexer": "ipython3",
   "version": "3.8.18"
  }
 },
 "nbformat": 4,
 "nbformat_minor": 5
}
